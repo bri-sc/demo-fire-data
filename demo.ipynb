version https://git-lfs.github.com/spec/v1
oid sha256:b51f60efe3702d841cf89e53be3acd1ff37930835cbcaf1671e794090394ff3f
size 14490
